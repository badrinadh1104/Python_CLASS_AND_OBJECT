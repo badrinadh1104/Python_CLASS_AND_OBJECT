{
 "cells": [
  {
   "cell_type": "markdown",
   "metadata": {},
   "source": [
    "# Inheritance:\n",
    "### → program to demonstrate the use of inhertence"
   ]
  },
  {
   "cell_type": "code",
   "execution_count": 28,
   "metadata": {},
   "outputs": [
    {
     "name": "stdout",
     "output_type": "stream",
     "text": [
      "*******************************************************\n",
      "Person details:\n",
      "*******************************************************\n",
      "Name Of The Person : badrinadh\n",
      "Age of the person  : 21\n",
      "\n",
      "\n",
      "*******************************************************\n",
      "teacher details:\n",
      "*******************************************************\n",
      "Name Of The Person : badrinadh\n",
      "Age of the person  : 21\n",
      "EXPERINCE          : 20\n",
      "RESEARCH AREA      : python_programming\n",
      "\n",
      "\n",
      "*******************************************************\n",
      "student details:\n",
      "*******************************************************\n",
      "Name Of The Person : sai\n",
      "Age of the person  : 21\n",
      "Course \t           : Python\n",
      "Marks  \t           : 532\n"
     ]
    }
   ],
   "source": [
    "class person(object):\n",
    "    def __init__(self,name,age):\n",
    "        self.name=name\n",
    "        self.age=age\n",
    "    def display(self):\n",
    "        print(\"Name Of The Person :\",self.name)\n",
    "        print(\"Age of the person  :\",self.age)\n",
    "class teacher(person):\n",
    "    def __init__(self,name,age,exp,r_area):\n",
    "        super().__init__(name,age)\n",
    "        self.exp=exp\n",
    "        self.r_area=r_area\n",
    "    def displaydata(self):\n",
    "        person.display(self)\n",
    "        print(\"EXPERINCE          :\",self.exp)\n",
    "        print(\"RESEARCH AREA      :\",self.r_area)\n",
    "class student(person):\n",
    "    def __init__(self,name,age,course,marks):\n",
    "        person.__init__(self,name,age)\n",
    "        self.course=course\n",
    "        self.marks=marks\n",
    "    def displaydata(self):\n",
    "        person.display(self)\n",
    "        print(\"Course \\t           :\",self.course)\n",
    "        print(\"Marks  \\t           :\",self.marks)\n",
    "print(\"*******************************************************\")\n",
    "print(\"Person details:\")\n",
    "print(\"*******************************************************\")\n",
    "p1=person(\"badrinadh\",21).display()\n",
    "print(\"\\n\")\n",
    "print(\"*******************************************************\")\n",
    "print(\"teacher details:\")\n",
    "print(\"*******************************************************\")\n",
    "t1=teacher(\"badrinadh\",21,20,\"python_programming\").displaydata()\n",
    "print(\"\\n\")\n",
    "print(\"*******************************************************\")\n",
    "print(\"student details:\")\n",
    "print(\"*******************************************************\")\n",
    "s1=student(\"sai\",21,\"Python\",532).displaydata()\n",
    "\n",
    "\n",
    "        \n",
    "    \n",
    "        \n",
    "        \n",
    "    "
   ]
  },
  {
   "cell_type": "markdown",
   "metadata": {},
   "source": [
    "## Type1: Multiple Inheritance"
   ]
  },
  {
   "cell_type": "code",
   "execution_count": 36,
   "metadata": {},
   "outputs": [
    {
     "name": "stdout",
     "output_type": "stream",
     "text": [
      "Base class 1\n",
      "Base class 2\n",
      "Derived class\n"
     ]
    }
   ],
   "source": [
    "class base1():\n",
    "    def __init__(self):\n",
    "        print(\"Base class 1\")\n",
    "        super(base1,self).__init__()\n",
    "class base2():\n",
    "    def __init__(self):\n",
    "        print(\"Base class 2\")\n",
    "class derived(base1,base2):\n",
    "    def __init__(self):\n",
    "        super(derived,self).__init__()\n",
    "        print(\"Derived class\")\n",
    "d1=derived()"
   ]
  },
  {
   "cell_type": "markdown",
   "metadata": {},
   "source": [
    "## Type2: Multi-Level Inheritance"
   ]
  },
  {
   "cell_type": "code",
   "execution_count": 46,
   "metadata": {},
   "outputs": [
    {
     "name": "stdout",
     "output_type": "stream",
     "text": [
      "name is Chandhu \n",
      "Python programmer\n",
      "15 years Experince\n"
     ]
    }
   ],
   "source": [
    "class person:\n",
    "    def name(self):\n",
    "        print(\"name is Chandhu \")\n",
    "class teacher(person):\n",
    "    def Qualification(self):\n",
    "        print(\"Python programmer\")\n",
    "class Hod(teacher):\n",
    "    def Experince(self):\n",
    "        print(\"15 years Experince\")\n",
    "hod=Hod()\n",
    "hod.name()\n",
    "hod.Qualification()\n",
    "hod.Experince()"
   ]
  },
  {
   "cell_type": "markdown",
   "metadata": {},
   "source": [
    "## Type3:Multi-Path Inheritance"
   ]
  },
  {
   "cell_type": "code",
   "execution_count": 47,
   "metadata": {},
   "outputs": [
    {
     "name": "stdout",
     "output_type": "stream",
     "text": [
      "*********Eligibility***********\n",
      "your score is 99 percentage\n",
      "youe ECA_score is 99\n"
     ]
    }
   ],
   "source": [
    "class student:\n",
    "    def name(self):\n",
    "        print(\"name is Chandhu\")\n",
    "class academic_status(student):\n",
    "    def score(self):\n",
    "        print(\"your score is 99 percentage\")\n",
    "class ECA:\n",
    "    def eca_score(self):\n",
    "        print(\"youe ECA_score is 99\")\n",
    "class Result(academic_status,ECA):\n",
    "    def eligibility(self):\n",
    "        print(\"*********Eligibility***********\")\n",
    "        self.score()\n",
    "        self.eca_score()\n",
    "r1=Result().eligibility()"
   ]
  },
  {
   "cell_type": "code",
   "execution_count": null,
   "metadata": {},
   "outputs": [],
   "source": []
  }
 ],
 "metadata": {
  "kernelspec": {
   "display_name": "Python 3",
   "language": "python",
   "name": "python3"
  },
  "language_info": {
   "codemirror_mode": {
    "name": "ipython",
    "version": 3
   },
   "file_extension": ".py",
   "mimetype": "text/x-python",
   "name": "python",
   "nbconvert_exporter": "python",
   "pygments_lexer": "ipython3",
   "version": "3.8.5"
  }
 },
 "nbformat": 4,
 "nbformat_minor": 4
}
