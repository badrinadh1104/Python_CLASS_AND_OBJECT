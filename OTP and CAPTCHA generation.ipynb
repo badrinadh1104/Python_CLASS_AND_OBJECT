{
 "cells": [
  {
   "cell_type": "code",
   "execution_count": null,
   "metadata": {},
   "outputs": [
    {
     "name": "stdout",
     "output_type": "stream",
     "text": [
      "For otp press/ enter 1 \n",
      " For captcha enter 2\n"
     ]
    }
   ],
   "source": [
    "import random\n",
    "import math\n",
    "def chandhu():\n",
    "    print(\"For otp press/ enter 1 \\n For captcha enter 2\")\n",
    "    k=int(input(\"enter the OTP/CAPtCh\"))\n",
    "    \n",
    "    if (k==1):\n",
    "        digits = \"0123456789\"\n",
    "        otp=\" \"\n",
    "        for i in range(6):\n",
    "            otp=otp+digits[math.floor(random.random()*10)]\n",
    "        print(otp)\n",
    "    else:\n",
    "        string = '0123456789abcdefghijklmnopqrstuvwxyzABCDEFGHIJKLMNOPQRSTUVWXYZ'\n",
    "        captha = \"\"\n",
    "        length = len(string)\n",
    "        for i in range(6) :\n",
    "            captha += string[math.floor(random.random() * length)]\n",
    "        print(captha)\n",
    "    \n",
    "chandhu()"
   ]
  },
  {
   "cell_type": "code",
   "execution_count": null,
   "metadata": {},
   "outputs": [],
   "source": []
  },
  {
   "cell_type": "code",
   "execution_count": null,
   "metadata": {},
   "outputs": [],
   "source": []
  },
  {
   "cell_type": "code",
   "execution_count": null,
   "metadata": {},
   "outputs": [],
   "source": []
  },
  {
   "cell_type": "code",
   "execution_count": null,
   "metadata": {},
   "outputs": [],
   "source": []
  }
 ],
 "metadata": {
  "kernelspec": {
   "display_name": "Python 3",
   "language": "python",
   "name": "python3"
  },
  "language_info": {
   "codemirror_mode": {
    "name": "ipython",
    "version": 3
   },
   "file_extension": ".py",
   "mimetype": "text/x-python",
   "name": "python",
   "nbconvert_exporter": "python",
   "pygments_lexer": "ipython3",
   "version": "3.8.5"
  }
 },
 "nbformat": 4,
 "nbformat_minor": 4
}
