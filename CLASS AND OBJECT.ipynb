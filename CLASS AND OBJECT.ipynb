{
 "cells": [
  {
   "cell_type": "markdown",
   "metadata": {},
   "source": [
    "# CLASS AND OBJECT\n"
   ]
  },
  {
   "cell_type": "markdown",
   "metadata": {},
   "source": [
    "## Employee Details :"
   ]
  },
  {
   "cell_type": "code",
   "execution_count": 28,
   "metadata": {},
   "outputs": [
    {
     "name": "stdout",
     "output_type": "stream",
     "text": [
      "*****************************************\n",
      "employee name\t     : rakesh\n",
      "employee designation : freelancer\n",
      "employee salary\t     : 215000\n",
      "*****************************************\n",
      "\n",
      "\n",
      "*****************************************\n",
      "employee name\t     : chandhu\n",
      "employee designation : programmer\n",
      "employee salary\t     : 500004\n",
      "*****************************************\n",
      "\n",
      "\n",
      "*****************************************\n",
      "employee name\t     : sandeep\n",
      "employee designation : advisor\n",
      "employee salary\t     : 965324\n",
      "*****************************************\n",
      "\n",
      "\n",
      "there are 3 employees  \n"
     ]
    }
   ],
   "source": [
    "class employee:\n",
    "    empcount=0\n",
    "    #creating the constructor for thw employee class\n",
    "    def __init__(self,name,designation,salary):\n",
    "        self.name=name;  \n",
    "        self.designation=designation\n",
    "        self.salary=salary\n",
    "        employee.empcount +=1 # for counting the number of employees \n",
    "    def details(self):\n",
    "        print(\"*****************************************\")\n",
    "        print(\"employee name\\t     :\",self.name)\n",
    "        print(\"employee designation :\",self.designation)\n",
    "        print(\"employee salary\\t     :\",self.salary)\n",
    "        print(\"*****************************************\")\n",
    "        print(\"\\n\")\n",
    "    def count(self):\n",
    "        print(\"there are {} employees  \".format(employee.empcount))\n",
    "#e1.count()\n",
    "e1=employee(\"rakesh\",\"freelancer\",215000) #creating the object for the class and giving the parameters reqired\n",
    "e2=employee(\"chandhu\",\"programmer\",500004) #creating the object for the class and giving the parameters reqired\n",
    "e3=employee(\"sandeep\",\"advisor\",965324) #creating the object for the class and giving the parameters reqired\n",
    "\n",
    "e1.details() #printing the details by calling the method \"details\"\n",
    "e2.details()\n",
    "e3.details()\n",
    "e3.count()\n",
    "        "
   ]
  },
  {
   "cell_type": "markdown",
   "metadata": {},
   "source": [
    "## Person  Details:\n",
    "### checking the eligibility for voting\n"
   ]
  },
  {
   "cell_type": "code",
   "execution_count": 23,
   "metadata": {},
   "outputs": [
    {
     "name": "stdout",
     "output_type": "stream",
     "text": [
      "*******************************************************\n",
      "Congragulation BADRINADH your egible for the voting\n",
      "THANK yOU your age is  20\n",
      "*******************************************************\n",
      "\n",
      "\n",
      "*******************************************************\n",
      "Congragulation CHANDHU your egible for the voting\n",
      "THANK yOU your age is  28\n",
      "*******************************************************\n",
      "\n",
      "\n",
      "*******************************************************\n",
      "Congragulation SANDEEP your egible for the voting\n",
      "THANK yOU your age is  23\n",
      "*******************************************************\n",
      "\n",
      "\n",
      "*******************************************************\n",
      "Congragulation RAM your egible for the voting\n",
      "THANK yOU your age is  22\n",
      "*******************************************************\n",
      "\n",
      "\n"
     ]
    }
   ],
   "source": [
    "import datetime\n",
    "class person():\n",
    "    def __init__(self,name,DOB):\n",
    "        self.name=name\n",
    "        self.DOB=DOB\n",
    "    def check(self):\n",
    "        today=datetime.date.today()\n",
    "        age=today.year-self.DOB.year\n",
    "        if (age>=18):\n",
    "            print(\"*******************************************************\")\n",
    "            print(\"Congragulation\",self.name,\"your egible for the voting\")\n",
    "            print(\"THANK yOU your age is \",age)\n",
    "            print(\"*******************************************************\")\n",
    "            print(\"\\n\")\n",
    "        else:\n",
    "            print(\"Sorry\",self.name,\"Your are not eligible for the voting\")\n",
    "            print(\"THANK yOU\")\n",
    "p1=person(\"badrinadh\".upper(),datetime.date(2001,4,11)).check()\n",
    "p2=person(\"chandhu\".upper(),datetime.date(1993,4,11)).check()\n",
    "p3=person(\"sandeep\".upper(),datetime.date(1998,4,11)).check()\n",
    "p4=person(\"ram\".upper(),datetime.date(1999,4,11)).check()\n",
    "\n",
    "        \n",
    "        \n",
    "    \n",
    "        "
   ]
  },
  {
   "cell_type": "markdown",
   "metadata": {},
   "source": [
    "# Student details:\n",
    "### checking the performance"
   ]
  },
  {
   "cell_type": "code",
   "execution_count": 33,
   "metadata": {},
   "outputs": [
    {
     "name": "stdout",
     "output_type": "stream",
     "text": [
      "*******************************************************\n",
      "ANURAG GROUP OF INSTITUTIONS\n",
      "\n",
      "Student Name   \t      : CHANDHU\n",
      "student roll number   : 18H61A0296\n",
      "Total Score \t      : 500\n",
      "Your score   \t      : 448\n",
      "Congragulations CHANDHU you have secured B grade\n",
      "*******************************************************\n",
      "\n",
      "\n",
      "*******************************************************\n",
      "ANURAG GROUP OF INSTITUTIONS\n",
      "\n",
      "Student Name   \t      : RAHUL\n",
      "student roll number   : 18H61A02A4\n",
      "Total Score \t      : 500\n",
      "Your score   \t      : 448\n",
      "Congragulations RAHUL you have secured B grade\n",
      "*******************************************************\n",
      "\n",
      "\n",
      "*******************************************************\n",
      "ANURAG GROUP OF INSTITUTIONS\n",
      "\n",
      "Student Name   \t      : SANDEEP\n",
      "student roll number   : 18H61A0265\n",
      "Total Score \t      : 500\n",
      "Your score   \t      : 448\n",
      "Congragulations SANDEEP you have secured B grade\n",
      "*******************************************************\n",
      "\n",
      "\n",
      "*******************************************************\n",
      "ANURAG GROUP OF INSTITUTIONS\n",
      "\n",
      "Student Name   \t      : SHIVA\n",
      "student roll number   : 18H61A0268\n",
      "Total Score \t      : 500\n",
      "Your score   \t      : 448\n",
      "Congragulations SHIVA you have secured B grade\n",
      "*******************************************************\n",
      "\n",
      "\n",
      "*******************************************************\n",
      "ANURAG GROUP OF INSTITUTIONS\n",
      "\n",
      "Student Name   \t      : DAVID\n",
      "student roll number   : 18H61A0266\n",
      "Total Score \t      : 500\n",
      "Your score   \t      : 297\n",
      "Sorry DAVID your are failed\n",
      "*******************************************************\n",
      "\n",
      "\n"
     ]
    }
   ],
   "source": [
    "class student:\n",
    "    def __init__(self,name,rollnum,m1,m2,m3,m4,m5):\n",
    "        self.name=name\n",
    "        self.rollnum=rollnum\n",
    "        self.m1=m1\n",
    "        self.m2=m2\n",
    "        self.m3=m3\n",
    "        self.m4=m4\n",
    "        self.m5=m5\n",
    "    def result(self):\n",
    "        total=self.m1+self.m2+self.m3+self.m4+self.m5\n",
    "        avg=total/5\n",
    "        print(\"*******************************************************\")\n",
    "        print(\"ANURAG GROUP OF INSTITUTIONS\\n\")\n",
    "        print(\"Student Name   \\t      :\",self.name)\n",
    "        print(\"student roll number   :\",self.rollnum)\n",
    "        print(\"Total Score \\t      :\",500)\n",
    "        print(\"Your score   \\t      :\",total)\n",
    "        if (avg>=90):\n",
    "            print(\"Congragulations\",self.name,\"you have secured A grade\")\n",
    "        elif(avg>=80):\n",
    "            print(\"Congragulations\",self.name,\"you have secured B grade\")\n",
    "        elif(avg>=70):\n",
    "            print(\"Congragulations\",self.name,\"you have secured C grade\")\n",
    "        elif(avg>=60):\n",
    "            print(\"Congragulations\",self.name,\"you have secured D grade\")\n",
    "        else:\n",
    "            print(\"Sorry\",self.name,\"your are failed\")\n",
    "        print(\"*******************************************************\")\n",
    "        print(\"\\n\")\n",
    "        \n",
    "s1=student(\"chandhu\".upper(),\"18H61A0296\",85,78,98,95,92).result()\n",
    "s2=student(\"rahul\".upper(),\"18H61A02A4\",85,78,98,95,92).result()\n",
    "s3=student(\"sandeep\".upper(),\"18H61A0265\",85,78,98,95,92).result()\n",
    "s4=student(\"shiva\".upper(),\"18H61A0268\",85,78,98,95,92).result()\n",
    "s5=student(\"david\".upper(),\"18H61A0266\",5,7,98,95,92).result()\n",
    "        \n",
    "        \n",
    "        \n",
    "        "
   ]
  },
  {
   "cell_type": "code",
   "execution_count": null,
   "metadata": {},
   "outputs": [],
   "source": []
  }
 ],
 "metadata": {
  "kernelspec": {
   "display_name": "Python 3",
   "language": "python",
   "name": "python3"
  },
  "language_info": {
   "codemirror_mode": {
    "name": "ipython",
    "version": 3
   },
   "file_extension": ".py",
   "mimetype": "text/x-python",
   "name": "python",
   "nbconvert_exporter": "python",
   "pygments_lexer": "ipython3",
   "version": "3.8.5"
  }
 },
 "nbformat": 4,
 "nbformat_minor": 4
}
